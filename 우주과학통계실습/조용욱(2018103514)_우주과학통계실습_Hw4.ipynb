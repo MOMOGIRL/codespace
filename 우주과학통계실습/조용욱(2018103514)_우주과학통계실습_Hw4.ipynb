{
 "cells": [
  {
   "cell_type": "code",
   "execution_count": 4,
   "id": "d4d1e235",
   "metadata": {},
   "outputs": [],
   "source": [
    "#HW 2-3\n",
    "import pandas as pd\n",
    "s = pd.Series([9904312, 3448737, 2890451, 2466052], index=[\"서울\", \"부산\", \"인천\", \"대구\"])\n",
    "s2 = pd.Series([9000000, 3000000, 2500000, 2000000],index=[\"서울\", \"부산\", \"인천\", \"대구\"])"
   ]
  },
  {
   "cell_type": "code",
   "execution_count": 10,
   "id": "2e558757",
   "metadata": {},
   "outputs": [
    {
     "name": "stdout",
     "output_type": "stream",
     "text": [
      "서울의 인구 감소율은  904312 명입니다.\n",
      "부산의 인구 감소율은  448737 명입니다.\n",
      "인천의 인구 감소율은  390451 명입니다.\n",
      "대구의 인구 감소율은  466052 명입니다.\n"
     ]
    }
   ],
   "source": [
    "x = s.index\n",
    "for i in x:\n",
    "    ds = s2[i] - s[i]\n",
    "    print(f'{i}의 인구 감소율은 ', abs(ds), '명입니다.')"
   ]
  },
  {
   "cell_type": "code",
   "execution_count": null,
   "id": "7acfca37",
   "metadata": {},
   "outputs": [],
   "source": []
  }
 ],
 "metadata": {
  "kernelspec": {
   "display_name": "Python 3 (ipykernel)",
   "language": "python",
   "name": "python3"
  },
  "language_info": {
   "codemirror_mode": {
    "name": "ipython",
    "version": 3
   },
   "file_extension": ".py",
   "mimetype": "text/x-python",
   "name": "python",
   "nbconvert_exporter": "python",
   "pygments_lexer": "ipython3",
   "version": "3.9.12"
  }
 },
 "nbformat": 4,
 "nbformat_minor": 5
}
