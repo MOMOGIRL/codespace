{
 "cells": [
  {
   "cell_type": "code",
   "execution_count": null,
   "id": "fe5212ef",
   "metadata": {},
   "outputs": [],
   "source": [
    "# HW 1-7\n",
    "import os, zipfile #1.\n",
    "my_dir = r'C:\\Users\\john0'\n",
    "os.chdir(my_dir) \n",
    "os.chdir(r'C:\\Users\\john0\\Downloads') #2.\n",
    "my_dir = os.getcwd()\n",
    "print(f'현재 작업폴더는 {my_dir}입니다.')\n",
    "\n",
    "dir_filelist = os.listdir(my_dir) #3.\n",
    "my_pdf = []\n",
    "mystr = '202101artCodingMid.pdf'\n",
    "for i in dir_filelist:\n",
    "    if '.pdf' bin i:\n",
    "        my_pdf.append(i)\n",
    "print(f'Folder {my_dir} 아래의 pdf file은 {my_pdf}입니다.')\n",
    "print(f\"{my_dir} 아래의 pdf file의 총 수는 {int(len(my_pdf))} 개입니다.\")\n",
    "\n",
    "zip_write = zipfile.ZipFile('my_PDFs.zip', 'w') #5.\n",
    "for x in my_pdf:\n",
    "    zip_write.write(os.path.join(my_dir,x), arcname=x)\n",
    "zip_write.close()\n",
    "        \n",
    "os.makedirs('C:\\mytemp', exist_ok=True) #6.\n",
    "zipfile.ZipFile(r'C:\\Users\\john0\\Downloads\\my_PDFs.zip').extractall('C:\\mytemp')"
   ]
  },
  {
   "cell_type": "code",
   "execution_count": 1,
   "id": "9d3592d2",
   "metadata": {},
   "outputs": [
    {
     "name": "stdout",
     "output_type": "stream",
     "text": [
      "1999 년 07 월 12 일 월요일\n",
      "23\n"
     ]
    }
   ],
   "source": [
    "# HW 1-8\n",
    "\n",
    "import datetime as dt\n",
    "\n",
    "bday = dt.datetime(1999, 7,12)\n",
    "x = ['월', '화', '수', '목', '금', '토', '일']\n",
    "print(bday.strftime(\"%Y 년 %m 월 %d 일\")+f' {x[bday.weekday()]}요일')\n",
    "\n",
    "today = dt.datetime.now()\n",
    "today_digits = int(today.strftime(\"%Y%m%d\"))\n",
    "bday_digits = int(bday.strftime(\"%Y%m%d\"))\n",
    "age = int((today_digits - bday_digits)/10000)\n",
    "\n",
    "print(age)"
   ]
  },
  {
   "cell_type": "code",
   "execution_count": 8,
   "id": "949b9a0f",
   "metadata": {},
   "outputs": [
    {
     "name": "stdout",
     "output_type": "stream",
     "text": [
      "112\n",
      "161629\n"
     ]
    }
   ],
   "source": [
    "# HW 1-9\n",
    "\n",
    "bday = dt.datetime(2023, 7,12)\n",
    "now = dt.datetime.now()\n",
    "td = bday - now\n",
    "td\n",
    "print(td.days)\n",
    "td_in_minuites = int(td.total_seconds()/60)\n",
    "print(td_in_minuites)\n"
   ]
  },
  {
   "cell_type": "code",
   "execution_count": 14,
   "id": "7fded0ea",
   "metadata": {
    "scrolled": true
   },
   "outputs": [
    {
     "name": "stdout",
     "output_type": "stream",
     "text": [
      "2000-02-29 00:00:00\n",
      "2001-02-28 00:00:00\n"
     ]
    }
   ],
   "source": [
    "# HW 1-10\n",
    "\n",
    "from dateutil.relativedelta import relativedelta\n",
    "\n",
    "t0 = dt.datetime(2000, 1,31)\n",
    "print(t0 + relativedelta(months = 1))\n",
    "t1 = dt.datetime(2000,2,29)\n",
    "\n",
    "print(t1 + relativedelta(years = 1))\n",
    "\n"
   ]
  },
  {
   "cell_type": "code",
   "execution_count": null,
   "id": "0bad4a95",
   "metadata": {},
   "outputs": [],
   "source": [
    "# HW 2-1\n",
    "np.random.seed(3)\n",
    "\n",
    "x = np.random.randn(10000)\n",
    "y = np.random.normal(5,10,10000)\n",
    "plt.hist(x, bins = 100, alpha = 1)\n",
    "plt.hist(y, bins = 100, alpha = 0.5)\n",
    "plt.hist(x*10+5, bins = 100, alpha = 0.3)"
   ]
  },
  {
   "cell_type": "code",
   "execution_count": null,
   "id": "5cbc7c84",
   "metadata": {},
   "outputs": [],
   "source": [
    "# HW 1-6, HW 1-11 재풀이\n",
    "from time import time\n",
    "\n",
    "def prime(x):\n",
    "    start = time()\n",
    "    num = 2\n",
    "    while x/2 >=num:\n",
    "        if int(x/num) != x/num:\n",
    "            num +=1\n",
    "            if num == int(0.1*x/2):\n",
    "                print(\"10% 완료\")\n",
    "            elif num == int(0.2*x/2):\n",
    "                print(\"20% 완료\")\n",
    "            elif num == int(0.3*x/2):\n",
    "                print(\"30% 완료\")\n",
    "            elif num == int(0.4*x/2):\n",
    "                print(\"40% 완료\")\n",
    "            elif num == int(0.5*x/2):\n",
    "                print(\"50% 완료\")\n",
    "            elif num == int(0.6*x/2):\n",
    "                print(\"60% 완료\")\n",
    "            elif num == int(0.7*x/2):\n",
    "                print(\"70% 완료\")\n",
    "            elif num == int(0.8*x/2):\n",
    "                print(\"80% 완료\")\n",
    "            elif num == int(0.9*x/2):\n",
    "                print(\"90% 완료\")\n",
    "            continue\n",
    "        else:\n",
    "            print(f\"주어진 정수 {x}는 소수가 아닙니다.\")\n",
    "            break\n",
    "    if num == int(x/2)+1:\n",
    "        print(f'주어진 정수 {x}은/는 소수입니다.')\n",
    "    end = time()\n",
    "    print(f'위 계산에 걸린 총 시간은 {end - start}초입니다.')\n",
    "prime(2**31-1)"
   ]
  }
 ],
 "metadata": {
  "kernelspec": {
   "display_name": "Python 3 (ipykernel)",
   "language": "python",
   "name": "python3"
  },
  "language_info": {
   "codemirror_mode": {
    "name": "ipython",
    "version": 3
   },
   "file_extension": ".py",
   "mimetype": "text/x-python",
   "name": "python",
   "nbconvert_exporter": "python",
   "pygments_lexer": "ipython3",
   "version": "3.9.12"
  }
 },
 "nbformat": 4,
 "nbformat_minor": 5
}
