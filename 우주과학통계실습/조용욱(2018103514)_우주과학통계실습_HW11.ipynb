{
 "cells": [
  {
   "cell_type": "code",
   "execution_count": 2,
   "metadata": {},
   "outputs": [],
   "source": [
    "import numpy as np\n",
    "from scipy.stats import linregress\n",
    "import matplotlib.pyplot as plt\n",
    "from scipy import stats\n",
    "import pandas as pd\n"
   ]
  },
  {
   "cell_type": "code",
   "execution_count": 14,
   "metadata": {},
   "outputs": [
    {
     "name": "stdout",
     "output_type": "stream",
     "text": [
      "ydata 평균은 4.363636363636363, 표준편차는 5.722884321622943\n",
      "rvalue is 0.6343518045675641\n"
     ]
    },
    {
     "data": {
      "text/plain": [
       "<matplotlib.legend.Legend at 0x177cff0f9a0>"
      ]
     },
     "execution_count": 14,
     "metadata": {},
     "output_type": "execute_result"
    },
    {
     "data": {
      "image/png": "[encoded data removed]",
      "text/plain": [
       "<Figure size 432x288 with 1 Axes>"
      ]
     },
     "metadata": {
      "needs_background": "light"
     },
     "output_type": "display_data"
    }
   ],
   "source": [
    "ydata = np.array([0.4, 2, 0.4, 9.4, 4.8, 1.5, 2.2, 8.1, 6, 2.9, 5.9, 2.6, 1.8, 2, 3.2, 5.1, 2.2, 0.4, 1.9, 2.6, 2.3, 28.3])\n",
    "xdata = np.array([1,4,6,7,8,10,12,12,15,17,22,23,30,30,30,31,31,31,32,45,46,89])\n",
    "\n",
    "\n",
    "result = linregress(xdata, ydata)\n",
    "A = result.intercept\n",
    "B = result.slope\n",
    "r = result.rvalue\n",
    "average = ydata.mean()\n",
    "std = ydata.std()\n",
    "print(f'ydata 평균은 {average}, 표준편차는 {std}')\n",
    "\n",
    "plt.errorbar(xdata, ydata, yerr = std, marker='s', ls='none')\n",
    "xfit = np.linspace(0,xdata.max(),100)\n",
    "yfit = A+B*xfit\n",
    "plt.plot(xfit, yfit, label = 'fitting')\n",
    "print(f'rvalue is {r}')\n",
    "plt.legend()"
   ]
  },
  {
   "attachments": {},
   "cell_type": "markdown",
   "metadata": {},
   "source": [
    "outlier는 "
   ]
  },
  {
   "cell_type": "code",
   "execution_count": null,
   "metadata": {},
   "outputs": [],
   "source": []
  }
 ],
 "metadata": {
  "kernelspec": {
   "display_name": "Python 3 (ipykernel)",
   "language": "python",
   "name": "python3"
  },
  "language_info": {
   "codemirror_mode": {
    "name": "ipython",
    "version": 3
   },
   "file_extension": ".py",
   "mimetype": "text/x-python",
   "name": "python",
   "nbconvert_exporter": "python",
   "pygments_lexer": "ipython3",
   "version": "3.9.12"
  },
  "orig_nbformat": 4
 },
 "nbformat": 4,
 "nbformat_minor": 2
}
