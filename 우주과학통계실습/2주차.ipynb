{
 "cells": [
  {
   "cell_type": "code",
   "execution_count": 4,
   "id": "88efee18",
   "metadata": {},
   "outputs": [
    {
     "name": "stdout",
     "output_type": "stream",
     "text": [
      "yes\n"
     ]
    }
   ],
   "source": [
    "a = 'Hello, World'\n",
    "b = \"Hello, World\"\n",
    "\n",
    "a+b\n",
    "if a == b:\n",
    "    print('yes')"
   ]
  },
  {
   "cell_type": "code",
   "execution_count": 6,
   "id": "6086d265",
   "metadata": {},
   "outputs": [
    {
     "name": "stdout",
     "output_type": "stream",
     "text": [
      "H\n",
      "e\n",
      "l\n",
      "l\n",
      "o\n",
      ",\n"
     ]
    }
   ],
   "source": [
    "c = 'Hello,'\n",
    "d = 'World'\n",
    "for char in c:\n",
    "    print(char)"
   ]
  },
  {
   "cell_type": "code",
   "execution_count": 9,
   "id": "66ee81fd",
   "metadata": {},
   "outputs": [
    {
     "name": "stdout",
     "output_type": "stream",
     "text": [
      "나의 나이는 20살 입니다\n"
     ]
    }
   ],
   "source": [
    "my_age = 20\n",
    "print(f'나의 나이는 {my_age}살 입니다')"
   ]
  },
  {
   "cell_type": "code",
   "execution_count": 29,
   "id": "ed94b692",
   "metadata": {},
   "outputs": [
    {
     "name": "stdout",
     "output_type": "stream",
     "text": [
      "Pi rounded to three decimal places, is 3.142.\n",
      "Current time is 16:49\n"
     ]
    }
   ],
   "source": [
    "from math import pi\n",
    "pi\n",
    "print(f'Pi rounded to three decimal places, is {pi:.3f}.')\n",
    "from datetime import datetime\n",
    "print(f'Current time is {datetime.now():%H:%M}')"
   ]
  },
  {
   "cell_type": "code",
   "execution_count": 33,
   "id": "9e7703d0",
   "metadata": {},
   "outputs": [
    {
     "name": "stdout",
     "output_type": "stream",
     "text": [
      " 8 X 1 = 8\n",
      " 8 X 2 = 16\n",
      " 8 X 3 = 24\n",
      " 8 X 4 = 32\n",
      " 8 X 5 = 40\n",
      " 8 X 6 = 48\n",
      " 8 X 7 = 56\n",
      " 8 X 8 = 64\n",
      " 8 X 9 = 72\n"
     ]
    }
   ],
   "source": [
    "for i in range(1,10):\n",
    "    print(f' 8 X {i} = {8*i}')"
   ]
  },
  {
   "cell_type": "code",
   "execution_count": 36,
   "id": "542c5f00",
   "metadata": {},
   "outputs": [
    {
     "data": {
      "text/plain": [
       "[1, 'a', (2, 3), 4, 2]"
      ]
     },
     "execution_count": 36,
     "metadata": {},
     "output_type": "execute_result"
    }
   ],
   "source": [
    "a = [1, 'a', (2, 3), 2]\n",
    "a[:-1]\n",
    "a.insert(3, 4)\n",
    "a"
   ]
  },
  {
   "cell_type": "code",
   "execution_count": 37,
   "id": "6f1d3868",
   "metadata": {},
   "outputs": [
    {
     "data": {
      "text/plain": [
       "[1, 'a', 4, 2]"
      ]
     },
     "execution_count": 37,
     "metadata": {},
     "output_type": "execute_result"
    }
   ],
   "source": [
    "a.remove((2,3))\n",
    "a"
   ]
  },
  {
   "cell_type": "code",
   "execution_count": 40,
   "id": "871e7328",
   "metadata": {},
   "outputs": [
    {
     "data": {
      "text/plain": [
       "[1, 4, 2]"
      ]
     },
     "execution_count": 40,
     "metadata": {},
     "output_type": "execute_result"
    }
   ],
   "source": [
    "del a[1]\n",
    "a"
   ]
  },
  {
   "cell_type": "code",
   "execution_count": 43,
   "id": "05b471b9",
   "metadata": {},
   "outputs": [
    {
     "name": "stdout",
     "output_type": "stream",
     "text": [
      "1\n",
      "4\n",
      "7\n",
      "1\n",
      "2\n",
      "3\n",
      "4\n",
      "5\n",
      "6\n",
      "7\n",
      "8\n",
      "9\n"
     ]
    }
   ],
   "source": [
    "a = [[1, 2, 3], [4, 5, 6], [7, 8, 9]]\n",
    "for row in a:\n",
    "    print(row[0]) # First element in each row\n",
    "for row in a:\n",
    "    for element in row:\n",
    "        print(element)"
   ]
  },
  {
   "cell_type": "code",
   "execution_count": 54,
   "id": "4fcead2c",
   "metadata": {},
   "outputs": [
    {
     "name": "stdout",
     "output_type": "stream",
     "text": [
      "[[1, 2, 3, 4, 5], [6, 7, 8, 9, 10], [11, 12, 13, 14, 15], [16, 17, 18, 19, 20], [21, 22, 23, 24, 25], [26, 27, 28, 29, 30]]\n",
      "Array Index가 1, 4인 Element의 값은 10입니다.\n",
      "Array Index가 2, 0인 Element의 값은 11입니다.\n",
      "Array Index가 2, 1인 Element의 값은 12입니다.\n",
      "Array Index가 2, 2인 Element의 값은 13입니다.\n",
      "Array Index가 2, 3인 Element의 값은 14입니다.\n",
      "Array Index가 2, 4인 Element의 값은 15입니다.\n",
      "Array Index가 3, 0인 Element의 값은 16입니다.\n",
      "Array Index가 3, 1인 Element의 값은 17입니다.\n",
      "Array Index가 3, 2인 Element의 값은 18입니다.\n",
      "Array Index가 3, 3인 Element의 값은 19입니다.\n",
      "Array Index가 3, 4인 Element의 값은 20입니다.\n",
      "Array Index가 4, 0인 Element의 값은 21입니다.\n",
      "Array Index가 4, 1인 Element의 값은 22입니다.\n",
      "Array Index가 4, 2인 Element의 값은 23입니다.\n",
      "Array Index가 4, 3인 Element의 값은 24입니다.\n",
      "Array Index가 4, 4인 Element의 값은 25입니다.\n"
     ]
    }
   ],
   "source": [
    "# Hw 1-4\n",
    "a = [[i for i in range(1+5*n,6+5*n)] for n in range(6) ]\n",
    "print(a)\n",
    "for i in range(5):\n",
    "    for j in range(5):\n",
    "        if a[i][j]>=10:\n",
    "            print(f'Array Index가 {i}, {j}인 Element의 값은 {a[i][j]}입니다.')\n"
   ]
  },
  {
   "cell_type": "code",
   "execution_count": 8,
   "id": "ce16c341",
   "metadata": {},
   "outputs": [
    {
     "name": "stdout",
     "output_type": "stream",
     "text": [
      "사과를 구매하시겠습니까? Y/N y\n",
      "몇 개를 구매하시겠습니까? : 10\n",
      "배를 구매하시겠습니까? Y/N y\n",
      "몇 개를 구매하시겠습니까? : 10\n",
      "망고를 구매하시겠습니까? Y/N y\n",
      "몇 개를 구매하시겠습니까? : 10\n",
      "파인애플을 구매하시겠습니까? Y/N y\n",
      "몇 개를 구매하시겠습니까? : 10\n",
      "감을 구매하시겠습니까? Y/N y\n",
      "몇 개를 구매하시겠습니까? : 10\n",
      "수박을 구매하시겠습니까? Y/N y\n",
      "몇 개를 구매하시겠습니까? : 10\n",
      "사과의 가격은 1000입니다.\n",
      "사과의 구매 수량은 10개 입니다.\n",
      "배의 가격은 1500입니다.\n",
      "배의 구매 수량은 10개 입니다.\n",
      "망고의 가격은 3000입니다.\n",
      "망고의 구매 수량은 10개 입니다.\n",
      "파인애플의 가격은 2000입니다.\n",
      "파인애플의 구매 수량은 10개 입니다.\n",
      "감의 가격은 2000입니다.\n",
      "감의 구매 수량은 10개 입니다.\n",
      "수박의 가격은 2500입니다.\n",
      "수박의 구매 수량은 10개 입니다.\n",
      "총 가격 :  120000\n"
     ]
    }
   ],
   "source": [
    "# Homework 1-5\n",
    "a = {'사과' : 1000, '배' : 1500, '망고': 3000, '파인애플':2000, '감': 2000, '수박':2500}\n",
    "# 잘못된 입력을 받으면 제대로 입력하라고 경고 주기\n",
    "# 잘못된 입력을 받으면 에러뜨지 않도록 함\n",
    "# 사과 배 감을 10개씩 구매하면 가격이 얼마일지 출력\n",
    "\n",
    "question = ['사과를 구매하시겠습니까? Y/N ', '배를 구매하시겠습니까? Y/N ', '망고를 구매하시겠습니까? Y/N ', '파인애플을 구매하시겠습니까? Y/N ', '감을 구매하시겠습니까? Y/N ', '수박을 구매하시겠습니까? Y/N ']\n",
    "fruit = ['사과', '배', '망고', '파인애플', '감', '수박']\n",
    "answer = []\n",
    "amount = []\n",
    "for i in range(6): \n",
    "    while True:\n",
    "        ans = input(question[i])\n",
    "        if ans == 'y' or ans =='n':\n",
    "            answer.append(ans)\n",
    "            if ans == 'y':\n",
    "                amount_int = int(input(\"몇 개를 구매하시겠습니까? : \"))\n",
    "                amount.append(amount_int)\n",
    "            else:\n",
    "                amount.append(0)\n",
    "        else:\n",
    "            print('y,n중 하나를 입력해 주세요')\n",
    "            continue\n",
    "        break\n",
    "def receipt():\n",
    "    for i in range(6):\n",
    "        print(f'{fruit[i]}의 가격은 {a[fruit[i]]}입니다.')\n",
    "        print(f'{fruit[i]}의 총 가격은 {amount[i]*a[fruit[i]]} 입니다.')\n",
    "        \n",
    "    y = 0\n",
    "    for i in range(6):\n",
    "         y +=amount[i]*a[fruit[i]]\n",
    "    print('총 가격 : ', y)\n",
    "receipt()     "
   ]
  },
  {
   "cell_type": "code",
   "execution_count": null,
   "id": "1b7f6f81",
   "metadata": {},
   "outputs": [],
   "source": []
  },
  {
   "cell_type": "code",
   "execution_count": 9,
   "id": "3d17ebad",
   "metadata": {
    "scrolled": true
   },
   "outputs": [
    {
     "name": "stdout",
     "output_type": "stream",
     "text": [
      "[1, 2, 3, 4]\n",
      "[1, 2, 3] 4 4\n",
      "[1, 2, 3]\n",
      "[1, 2] 3 3\n",
      "[1, 2]\n",
      "[1] 2 2\n",
      "[1]\n",
      "[] 1 1\n"
     ]
    }
   ],
   "source": [
    "a = [1,2,3,4]\n",
    "while a:\n",
    "    print(a)\n",
    "    print(a, len(a), a.pop())"
   ]
  },
  {
   "cell_type": "code",
   "execution_count": 15,
   "id": "f9beba57",
   "metadata": {},
   "outputs": [
    {
     "name": "stdout",
     "output_type": "stream",
     "text": [
      "주어진 array의 최대값은 = 7 입니다\n"
     ]
    }
   ],
   "source": [
    "def get_max(array):\n",
    "    max = array[0]\n",
    "    for i in range(len(my_array)): #range, len 함수 아래 참조\n",
    "        if array[i] > max:\n",
    "            max = array[i]\n",
    "    return max\n",
    "my_array= [1, 3, 4, 7, 5]\n",
    "my_max = get_max(my_array)\n",
    "print(f'주어진 array의 최대값은 = {my_max} 입니다')"
   ]
  },
  {
   "cell_type": "code",
   "execution_count": 19,
   "id": "404d09f7",
   "metadata": {},
   "outputs": [
    {
     "name": "stdout",
     "output_type": "stream",
     "text": [
      "x is 50\n",
      "Changed global x to 2\n",
      "Value of x is 50\n"
     ]
    }
   ],
   "source": [
    "x = 50\n",
    "def func(x):\n",
    "    print('x is', x)\n",
    "    x = 2\n",
    "    print('Changed global x to', x)\n",
    "func(x)\n",
    "print ('Value of x is still', x)"
   ]
  },
  {
   "cell_type": "code",
   "execution_count": 20,
   "id": "0c2c79af",
   "metadata": {},
   "outputs": [
    {
     "name": "stdout",
     "output_type": "stream",
     "text": [
      "x is 50\n",
      "Changed global x to 2\n",
      "Value of x is 2\n"
     ]
    }
   ],
   "source": [
    "x = 50\n",
    "def func():\n",
    "    global x\n",
    "    print('x is', x)\n",
    "    x = 2\n",
    "    print('Changed global x to', x)\n",
    "func()\n",
    "print('Value of x is', x)"
   ]
  },
  {
   "cell_type": "code",
   "execution_count": 21,
   "id": "445aa27c",
   "metadata": {},
   "outputs": [
    {
     "name": "stdout",
     "output_type": "stream",
     "text": [
      "Hello\n",
      "WorldWorldWorldWorldWorld\n"
     ]
    }
   ],
   "source": [
    "def say(message, times=1):\n",
    "    print (message*times)\n",
    "say('Hello')\n",
    "say('World', 5) # or say('World', times=5)"
   ]
  },
  {
   "cell_type": "code",
   "execution_count": 22,
   "id": "9e77b887",
   "metadata": {},
   "outputs": [
    {
     "name": "stdout",
     "output_type": "stream",
     "text": [
      "5 is maximum\n",
      "Prints the maximum of two numbers.\n",
      "    The two values must be integers.\n",
      "Help on function print_max in module __main__:\n",
      "\n",
      "print_max(x, y)\n",
      "    Prints the maximum of two numbers.\n",
      "    The two values must be integers.\n",
      "\n"
     ]
    }
   ],
   "source": [
    "def print_max(x, y):\n",
    "    '''Prints the maximum of two numbers.\n",
    "    The two values must be integers.'''\n",
    "    # convert to integers, if possible\n",
    "    x = int(x)\n",
    "    y = int(y)\n",
    "    if x > y:\n",
    "        print (x, 'is maximum')\n",
    "    else:\n",
    "        print (y, 'is maximum')\n",
    "print_max(3, 5)\n",
    "print(print_max.__doc__)\n",
    "help(print_max)"
   ]
  },
  {
   "cell_type": "code",
   "execution_count": 2,
   "id": "e40a9216",
   "metadata": {},
   "outputs": [
    {
     "name": "stdout",
     "output_type": "stream",
     "text": [
      "Hello, world! 5\n",
      "Hello, world! 4\n",
      "Hello, world! 3\n",
      "Hello, world! 2\n",
      "Hello, world! 1\n"
     ]
    }
   ],
   "source": [
    "def hello(count):\n",
    "    if count == 0: # 종료 조건을 만듦. count가 0이면 다시 hello 함수를 호출 안함\n",
    "        return\n",
    "    print('Hello, world!', count)\n",
    "    count -= 1 # count를 1 감소시킨 뒤\n",
    "    hello(count) # 다시 hello에 넣음\n",
    "hello(5) # hello 함수 호출"
   ]
  },
  {
   "cell_type": "code",
   "execution_count": 3,
   "id": "f5952944",
   "metadata": {},
   "outputs": [
    {
     "data": {
      "text/plain": [
       "2147483647"
      ]
     },
     "execution_count": 3,
     "metadata": {},
     "output_type": "execute_result"
    }
   ],
   "source": [
    "#Homework 1-6\n",
    "\n",
    "2**31-1"
   ]
  },
  {
   "cell_type": "code",
   "execution_count": null,
   "id": "e8f74645",
   "metadata": {},
   "outputs": [],
   "source": []
  }
 ],
 "metadata": {
  "kernelspec": {
   "display_name": "Python 3 (ipykernel)",
   "language": "python",
   "name": "python3"
  },
  "language_info": {
   "codemirror_mode": {
    "name": "ipython",
    "version": 3
   },
   "file_extension": ".py",
   "mimetype": "text/x-python",
   "name": "python",
   "nbconvert_exporter": "python",
   "pygments_lexer": "ipython3",
   "version": "3.9.12"
  }
 },
 "nbformat": 4,
 "nbformat_minor": 5
}
