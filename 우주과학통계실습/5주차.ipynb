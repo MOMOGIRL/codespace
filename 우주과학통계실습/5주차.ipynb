{
 "cells": [
  {
   "cell_type": "code",
   "execution_count": 14,
   "id": "17cacafe",
   "metadata": {},
   "outputs": [],
   "source": [
    "import pandas as pd\n",
    "import os\n",
    "import numpy as np\n",
    "import matplotlib.pyplot as plt"
   ]
  },
  {
   "cell_type": "code",
   "execution_count": 16,
   "id": "06b08aa4",
   "metadata": {
    "scrolled": false
   },
   "outputs": [
    {
     "name": "stdout",
     "output_type": "stream",
     "text": [
      "130 130.0\n",
      "195 195.0\n",
      "160.964085 160.0\n"
     ]
    },
    {
     "data": {
      "image/png": "[encoded data removed]",
      "text/plain": [
       "<Figure size 432x288 with 1 Axes>"
      ]
     },
     "metadata": {
      "needs_background": "light"
     },
     "output_type": "display_data"
    }
   ],
   "source": [
    "path = r'C:\\Users\\john0\\Downloads'\n",
    "file = r'국민건강보험공단_건강검진정보_20211229.csv'\n",
    "\n",
    "filename = os.path.join(path, file)\n",
    "df = pd.read_csv(filename, encoding = 'cp949')\n",
    "\n",
    "header = df.columns\n",
    "height = df[header[5]]\n",
    "height_average = height.mean()\n",
    "height_median = height.median()\n",
    "height_std = height.std()\n",
    "height_var = height.var()\n",
    "\n",
    "height_min = height.min()\n",
    "height_max = height.max()\n",
    "\n",
    "height_000 = height.quantile(0.00)\n",
    "height_025 = height.quantile(0.25)\n",
    "height_075 = height.quantile(0.75)\n",
    "height_100 = height.quantile(1.00)\n",
    "\n",
    "print(height_min, height_000)\n",
    "print(height_max, height_100)\n",
    "\n",
    "print(height_average, height_median)\n",
    "\n",
    "plt.rc('font', family = 'Malgun Gothic')\n",
    "plt.title('국민건강보험관리공단 건강검진정보 중 키')\n",
    "plt.boxplot(height, showfliers =True)\n",
    "plt.show()"
   ]
  },
  {
   "cell_type": "code",
   "execution_count": 17,
   "id": "34ccdafd",
   "metadata": {},
   "outputs": [
    {
     "data": {
      "image/png": "[encoded data removed]",
      "text/plain": [
       "<Figure size 432x288 with 1 Axes>"
      ]
     },
     "metadata": {
      "needs_background": "light"
     },
     "output_type": "display_data"
    }
   ],
   "source": [
    "plt.title('국민건강보험관리공단 건강검진정보 중 키의 Histogram')\n",
    "plt.ylabel('빈도수 (Frequency)')\n",
    "plt.hist(height, bins = np.arange(height_min, height_max, 5))\n",
    "plt.show()"
   ]
  },
  {
   "cell_type": "code",
   "execution_count": 19,
   "id": "5df32fd0",
   "metadata": {},
   "outputs": [
    {
     "data": {
      "text/plain": [
       "Index(['기준년도', '가입자 일련번호', '시도코드', '성별코드', '연령대 코드(5세단위)', '신장(5Cm단위)',\n",
       "       '체중(5Kg 단위)', '허리둘레', '시력(좌)', '시력(우)', '청력(좌)', '청력(우)', '수축기 혈압',\n",
       "       '이완기 혈압', '식전혈당(공복혈당)', '총 콜레스테롤', '트리글리세라이드', 'HDL 콜레스테롤', 'LDL 콜레스테롤',\n",
       "       '혈색소', '요단백', '혈청크레아티닌', '(혈청지오티)AST', '(혈청지오티)ALT', '감마 지티피', '흡연상태',\n",
       "       '음주여부', '구강검진 수검여부', '치아우식증유무', '치석', '데이터 공개일자'],\n",
       "      dtype='object')"
      ]
     },
     "execution_count": 19,
     "metadata": {},
     "output_type": "execute_result"
    }
   ],
   "source": [
    "header"
   ]
  },
  {
   "cell_type": "code",
   "execution_count": 20,
   "id": "c2ceb8e5",
   "metadata": {},
   "outputs": [
    {
     "data": {
      "text/plain": [
       "0         1.0\n",
       "1         1.0\n",
       "2         1.0\n",
       "3         1.0\n",
       "4         1.0\n",
       "         ... \n",
       "999995    1.0\n",
       "999996    1.0\n",
       "999997    1.0\n",
       "999998    1.0\n",
       "999999    2.0\n",
       "Name: 흡연상태, Length: 1000000, dtype: float64"
      ]
     },
     "execution_count": 20,
     "metadata": {},
     "output_type": "execute_result"
    }
   ],
   "source": [
    "df['흡연상태']"
   ]
  },
  {
   "cell_type": "code",
   "execution_count": 21,
   "id": "c2f96a43",
   "metadata": {},
   "outputs": [
    {
     "name": "stdout",
     "output_type": "stream",
     "text": [
      "124.2166286593768 126.62496426415933\n"
     ]
    }
   ],
   "source": [
    "smoker_bool = (df['흡연상태'] == 1)\n",
    "nosmoker_bool = (df['흡연상태']==2)\n",
    "blood_pressure_smoke = df[smoker_bool]['수축기 혈압']\n",
    "blood_pressure_smoke_mean = blood_pressure_smoke.mean()\n",
    "\n",
    "blood_pressure_nosmoke = df[nosmoker_bool]['수축기 혈압']\n",
    "blood_pressure_nosmoke_mean = blood_pressure_nosmoke.mean()\n",
    "\n",
    "print(blood_pressure_smoke_mean, blood_pressure_nosmoke_mean)\n"
   ]
  },
  {
   "cell_type": "code",
   "execution_count": null,
   "id": "91314b23",
   "metadata": {},
   "outputs": [],
   "source": []
  }
 ],
 "metadata": {
  "kernelspec": {
   "display_name": "Python 3 (ipykernel)",
   "language": "python",
   "name": "python3"
  },
  "language_info": {
   "codemirror_mode": {
    "name": "ipython",
    "version": 3
   },
   "file_extension": ".py",
   "mimetype": "text/x-python",
   "name": "python",
   "nbconvert_exporter": "python",
   "pygments_lexer": "ipython3",
   "version": "3.9.12"
  }
 },
 "nbformat": 4,
 "nbformat_minor": 5
}
