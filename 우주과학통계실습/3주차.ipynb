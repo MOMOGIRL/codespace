{
 "cells": [
  {
   "cell_type": "code",
   "execution_count": 1,
   "id": "36d71bb1",
   "metadata": {},
   "outputs": [],
   "source": [
    "import pandas as pd"
   ]
  },
  {
   "cell_type": "markdown",
   "id": "6c76e84b",
   "metadata": {},
   "source": [
    "제출할 때 전웅 / 2019110607@khu.ac.kr  / 010-4234-0531"
   ]
  },
  {
   "cell_type": "code",
   "execution_count": 2,
   "id": "0880619d",
   "metadata": {},
   "outputs": [
    {
     "data": {
      "text/plain": [
       "['BooleanDtype',\n",
       " 'Categorical',\n",
       " 'CategoricalDtype',\n",
       " 'CategoricalIndex',\n",
       " 'DataFrame',\n",
       " 'DateOffset',\n",
       " 'DatetimeIndex',\n",
       " 'DatetimeTZDtype',\n",
       " 'ExcelFile',\n",
       " 'ExcelWriter',\n",
       " 'Flags',\n",
       " 'Float32Dtype',\n",
       " 'Float64Dtype',\n",
       " 'Float64Index',\n",
       " 'Grouper',\n",
       " 'HDFStore',\n",
       " 'Index',\n",
       " 'IndexSlice',\n",
       " 'Int16Dtype',\n",
       " 'Int32Dtype',\n",
       " 'Int64Dtype',\n",
       " 'Int64Index',\n",
       " 'Int8Dtype',\n",
       " 'Interval',\n",
       " 'IntervalDtype',\n",
       " 'IntervalIndex',\n",
       " 'MultiIndex',\n",
       " 'NA',\n",
       " 'NaT',\n",
       " 'NamedAgg',\n",
       " 'Period',\n",
       " 'PeriodDtype',\n",
       " 'PeriodIndex',\n",
       " 'RangeIndex',\n",
       " 'Series',\n",
       " 'SparseDtype',\n",
       " 'StringDtype',\n",
       " 'Timedelta',\n",
       " 'TimedeltaIndex',\n",
       " 'Timestamp',\n",
       " 'UInt16Dtype',\n",
       " 'UInt32Dtype',\n",
       " 'UInt64Dtype',\n",
       " 'UInt64Index',\n",
       " 'UInt8Dtype',\n",
       " '__all__',\n",
       " '__builtins__',\n",
       " '__cached__',\n",
       " '__deprecated_num_index_names',\n",
       " '__dir__',\n",
       " '__doc__',\n",
       " '__docformat__',\n",
       " '__file__',\n",
       " '__getattr__',\n",
       " '__git_version__',\n",
       " '__loader__',\n",
       " '__name__',\n",
       " '__package__',\n",
       " '__path__',\n",
       " '__spec__',\n",
       " '__version__',\n",
       " '_config',\n",
       " '_is_numpy_dev',\n",
       " '_libs',\n",
       " '_testing',\n",
       " '_typing',\n",
       " '_version',\n",
       " 'api',\n",
       " 'array',\n",
       " 'arrays',\n",
       " 'bdate_range',\n",
       " 'compat',\n",
       " 'concat',\n",
       " 'core',\n",
       " 'crosstab',\n",
       " 'cut',\n",
       " 'date_range',\n",
       " 'describe_option',\n",
       " 'errors',\n",
       " 'eval',\n",
       " 'factorize',\n",
       " 'get_dummies',\n",
       " 'get_option',\n",
       " 'infer_freq',\n",
       " 'interval_range',\n",
       " 'io',\n",
       " 'isna',\n",
       " 'isnull',\n",
       " 'json_normalize',\n",
       " 'lreshape',\n",
       " 'melt',\n",
       " 'merge',\n",
       " 'merge_asof',\n",
       " 'merge_ordered',\n",
       " 'notna',\n",
       " 'notnull',\n",
       " 'offsets',\n",
       " 'option_context',\n",
       " 'options',\n",
       " 'pandas',\n",
       " 'period_range',\n",
       " 'pivot',\n",
       " 'pivot_table',\n",
       " 'plotting',\n",
       " 'qcut',\n",
       " 'read_clipboard',\n",
       " 'read_csv',\n",
       " 'read_excel',\n",
       " 'read_feather',\n",
       " 'read_fwf',\n",
       " 'read_gbq',\n",
       " 'read_hdf',\n",
       " 'read_html',\n",
       " 'read_json',\n",
       " 'read_orc',\n",
       " 'read_parquet',\n",
       " 'read_pickle',\n",
       " 'read_sas',\n",
       " 'read_spss',\n",
       " 'read_sql',\n",
       " 'read_sql_query',\n",
       " 'read_sql_table',\n",
       " 'read_stata',\n",
       " 'read_table',\n",
       " 'read_xml',\n",
       " 'reset_option',\n",
       " 'set_eng_float_format',\n",
       " 'set_option',\n",
       " 'show_versions',\n",
       " 'test',\n",
       " 'testing',\n",
       " 'timedelta_range',\n",
       " 'to_datetime',\n",
       " 'to_numeric',\n",
       " 'to_pickle',\n",
       " 'to_timedelta',\n",
       " 'tseries',\n",
       " 'unique',\n",
       " 'util',\n",
       " 'value_counts',\n",
       " 'wide_to_long']"
      ]
     },
     "execution_count": 2,
     "metadata": {},
     "output_type": "execute_result"
    }
   ],
   "source": [
    "dir(pd)"
   ]
  },
  {
   "cell_type": "code",
   "execution_count": 26,
   "id": "28f470a0",
   "metadata": {},
   "outputs": [
    {
     "name": "stdout",
     "output_type": "stream",
     "text": [
      "현재 작업폴더는 C:\\Users\\john0\\Downloads입니다.\n",
      "Folder C:\\Users\\john0\\Downloads 아래의 pdf file은 ['202101artCodingMid.pdf', '202201coafinal.pdf', '202201coamid.pdf', '2023_강의노트.pdf', 'Craig F. Bohren, Donald R. Huffman - Absorption and Scattering of Light by Small Particles-Wiley-VCH (1983).pdf', 'Finale 2008 - [윤하 - Supersonic(G)].pdf', 'Finale 2008 - [윤하-살별(G)].pdf', 'Homework_Set_2__Quantum_Mechanics_2__Fall_2022.pdf', 'Homework_Set_3__Quantum_Mechanics_2__Fall_2022.pdf', 'Homework_Set_4__Quantum_Mechanics_2__Fall_2022.pdf', 'Homework_Set_6__Quantum_Mechanics_2__Fall_2022.pdf', 'Homework_Set_7__Quantum_Mechanics_2__Fall_2022.pdf', 'Steven S. Zumdahl, Susan A. Zumdahl - Chemistry-Cengage Learning (2013).pdf', 'Test_QM1_Quantum_Mechanics_2_Fall_2022.pdf', '_46696E616C652032303038202D205BC0CDBDBA284558292DC0DFBACEC5B9B5E5B8B3B4CFB4D9284731292E4D55535D_.pdf', '기출문제(2017_2021).pdf', '물리학특가 숙제 2.pdf', '반도체공정실험 1차 보고서.pdf', '반도체공정실험 보고서2 (1).pdf', '반도체공정실험 보고서2.pdf', '반도체공정실험 종합일지.pdf', '반도체공정실험3.pdf', '양자역학 과제4.pdf', '연구실안전관리시스템.pdf', '오피스365 로그인 관련 자주 묻는 질문 1차.pdf', '우주과학통계실습_강의노트_A_20230321B.pdf']입니다.\n",
      "C:\\Users\\john0\\Downloads 아래의 pdf file의 총 수는 26 개입니다.\n"
     ]
    }
   ],
   "source": [
    "# HW 1-7\n",
    "import os, zipfile #1.\n",
    "my_dir = r'C:\\Users\\john0'\n",
    "os.chdir(my_dir) \n",
    "os.chdir(r'C:\\Users\\john0\\Downloads') #2.\n",
    "my_dir = os.getcwd()\n",
    "print(f'현재 작업폴더는 {my_dir}입니다.')\n",
    "\n",
    "dir_filelist = os.listdir(my_dir) #3.\n",
    "my_pdf = []\n",
    "mystr = '202101artCodingMid.pdf'\n",
    "for i in dir_filelist:\n",
    "    if '.pdf' in i:\n",
    "        my_pdf.append(i)\n",
    "print(f'Folder {my_dir} 아래의 pdf file은 {my_pdf}입니다.')\n",
    "print(f\"{my_dir} 아래의 pdf file의 총 수는 {int(len(my_pdf))} 개입니다.\")\n",
    "\n",
    "zip_write = zipfile.ZipFile('my_PDFs.zip', 'w') #5.\n",
    "for x in my_pdf:\n",
    "    zip_write.write(os.path.join(my_dir,x), arcname=x)\n",
    "zip_write.close()\n",
    "        \n",
    "os.makedirs('C:\\mytemp', exist_ok=True) #6.\n",
    "zipfile.ZipFile(r'C:\\Users\\john0\\Downloads\\my_PDFs.zip').extractall('C:\\mytemp')"
   ]
  },
  {
   "cell_type": "code",
   "execution_count": 31,
   "id": "21497859",
   "metadata": {},
   "outputs": [
    {
     "name": "stdout",
     "output_type": "stream",
     "text": [
      "1999 년 07 월 12 일 월요일\n",
      "23\n"
     ]
    }
   ],
   "source": [
    "# HW 1-8\n",
    "\n",
    "import datetime as dt\n",
    "\n",
    "bday = dt.datetime(1999, 7,12)\n",
    "x = ['월', '화', '수', '목', '금', '토', '일']\n",
    "print(bday.strftime(\"%Y 년 %m 월 %d 일\")+f' {x[bday.weekday()]}요일')\n",
    "\n",
    "today = dt.datetime.now()\n",
    "today_digits = int(today.strftime(\"%Y%m%d\"))\n",
    "bday_digits = int(bday.strftime(\"%Y%m%d\"))\n",
    "age = int((today_digits - bday_digits)/10000)\n",
    "\n",
    "print(age)"
   ]
  },
  {
   "cell_type": "code",
   "execution_count": 29,
   "id": "4608cf83",
   "metadata": {},
   "outputs": [
    {
     "data": {
      "text/plain": [
       "datetime.datetime(2023, 1, 1, 12, 0)"
      ]
     },
     "execution_count": 29,
     "metadata": {},
     "output_type": "execute_result"
    }
   ],
   "source": [
    "\n",
    "dt.datetime.strptime(\"2023-01-01 12:00\", \"%Y-%m-%d %H:%M\")"
   ]
  },
  {
   "cell_type": "code",
   "execution_count": null,
   "id": "3cab3e9b",
   "metadata": {},
   "outputs": [],
   "source": [
    "# HW 1-9\n",
    "\n",
    "bday = dt.datetime(2023, 7,12)\n",
    "now = dt.datetime.now()\n",
    "td = bday - now\n",
    "td\n",
    "print(td.days)\n",
    "td_in_minuites = int(td.total_seconds()/60)\n",
    "print(td_in_minuites)\n"
   ]
  },
  {
   "cell_type": "code",
   "execution_count": 32,
   "id": "3b7a02d4",
   "metadata": {},
   "outputs": [
    {
     "name": "stdout",
     "output_type": "stream",
     "text": [
      "2000-02-29 00:00:00\n",
      "2001-02-28 00:00:00\n"
     ]
    }
   ],
   "source": [
    "# HW 1-10\n",
    "\n",
    "from dateutil.relativedelta import relativedelta\n",
    "\n",
    "t0 = dt.datetime(2000, 1,31)\n",
    "print(t0 + relativedelta(months = 1))\n",
    "t1 = dt.datetime(2000,2,29)\n",
    "\n",
    "print(t1 + relativedelta(years = 1))\n",
    "\n"
   ]
  },
  {
   "cell_type": "code",
   "execution_count": 38,
   "id": "3c9339a7",
   "metadata": {},
   "outputs": [
    {
     "name": "stdout",
     "output_type": "stream",
     "text": [
      "time elapsed: 1.508408784866333\n"
     ]
    }
   ],
   "source": [
    "from time import time, sleep\n",
    "\n",
    "start = time()\n",
    "sleep(1.5)\n",
    "end = time()\n",
    "print('time elapsed:', end - start)"
   ]
  },
  {
   "cell_type": "code",
   "execution_count": 2,
   "id": "43ac9900",
   "metadata": {},
   "outputs": [],
   "source": [
    "import numpy as np"
   ]
  },
  {
   "cell_type": "markdown",
   "id": "30aef56e",
   "metadata": {},
   "source": [
    "numpy는 모두 같은 종류의 데이터가 원소로 들어가야됨. a,b가 포함되어 있어서 넘파이가 임의로 모든 자료를 list로 바꿈"
   ]
  },
  {
   "cell_type": "code",
   "execution_count": 44,
   "id": "9cd37641",
   "metadata": {},
   "outputs": [
    {
     "data": {
      "text/plain": [
       "array(['1', '3', '5', 'a', 'b'], dtype='<U11')"
      ]
     },
     "execution_count": 44,
     "metadata": {},
     "output_type": "execute_result"
    }
   ],
   "source": [
    "array = np.array([1,3,5,'a', 'b'])\n",
    "array"
   ]
  },
  {
   "cell_type": "markdown",
   "id": "3ac7a49b",
   "metadata": {},
   "source": [
    "numpy는 더하면 각 원소들의 합을 배출함"
   ]
  },
  {
   "cell_type": "code",
   "execution_count": 46,
   "id": "c85d2d93",
   "metadata": {},
   "outputs": [
    {
     "name": "stdout",
     "output_type": "stream",
     "text": [
      "[1, 2, 3, 4, 5, 6, 7, 8, 9, 10]\n",
      "[ 7  9 11 13 15]\n"
     ]
    }
   ],
   "source": [
    "a1 = [1,2,3,4,5]\n",
    "a2 = [6,7,8,9,10]\n",
    "print(a1+a2)\n",
    "b1 = np.array(a1)\n",
    "b2 = np.array(a2)\n",
    "print(b1 + b2)"
   ]
  },
  {
   "cell_type": "code",
   "execution_count": 49,
   "id": "33bbe79a",
   "metadata": {},
   "outputs": [
    {
     "name": "stdout",
     "output_type": "stream",
     "text": [
      "[[0. 0.]\n",
      " [0. 0.]]\n",
      "[[[1 1 1]\n",
      "  [1 1 1]]\n",
      "\n",
      " [[1 1 1]\n",
      "  [1 1 1]]]\n",
      "[[1. 0. 0.]\n",
      " [0. 1. 0.]\n",
      " [0. 0. 1.]]\n",
      "[[100 100 100]\n",
      " [100 100 100]]\n",
      "[[0.75381422 0.53530005 0.56893241]\n",
      " [0.56493574 0.41238096 0.27487944]]\n"
     ]
    }
   ],
   "source": [
    "zero_array = np.zeros((2, 2)) # 2 by 2 zero matrix\n",
    "one_array = np.ones((2, 2, 3), dtype=int) # 3D one integer matrix\n",
    "I = np.eye(3) # unit matrix\n",
    "F = np.full((2, 3), 100) # matrix full of same element\n",
    "rand_array = np.random.rand(2, 3) \n",
    "print(zero_array)\n",
    "print(one_array)\n",
    "print(I)\n",
    "print(F)\n",
    "print(rand_array)"
   ]
  },
  {
   "cell_type": "code",
   "execution_count": 50,
   "id": "614d974f",
   "metadata": {},
   "outputs": [
    {
     "name": "stdout",
     "output_type": "stream",
     "text": [
      "[ 1  6 11 16 21 26 31 36 41 46 51 56 61 66 71 76 81 86 91 96]\n"
     ]
    }
   ],
   "source": [
    "b= np.arange(1,100, 5)\n",
    "print(b)"
   ]
  },
  {
   "cell_type": "code",
   "execution_count": 51,
   "id": "4b3792d0",
   "metadata": {},
   "outputs": [
    {
     "name": "stdout",
     "output_type": "stream",
     "text": [
      "[[[0.96851429 0.14828904 0.75591206 0.36081233]\n",
      "  [0.95105253 0.33834247 0.70266457 0.59903902]\n",
      "  [0.3142486  0.64852416 0.39285568 0.63272105]]\n",
      "\n",
      " [[0.58073383 0.85242402 0.53527351 0.61640554]\n",
      "  [0.40182564 0.03382242 0.30159503 0.89131999]\n",
      "  [0.66321321 0.52277992 0.03041684 0.05709043]]]\n",
      "[[[0.96851429 0.14828904 0.75591206 0.36081233]\n",
      "  [0.95105253 0.33834247 0.70266457 0.59903902]\n",
      "  [0.3142486  0.64852416 0.39285568 0.63272105]]\n",
      "\n",
      " [[0.58073383 0.85242402 0.53527351 0.61640554]\n",
      "  [0.40182564 0.03382242 0.30159503 0.89131999]\n",
      "  [0.66321321 0.52277992 0.03041684 0.05709043]]]\n"
     ]
    }
   ],
   "source": [
    "a = np.random.rand(2, 3, 4)\n",
    "print(a)\n",
    "b = np.reshape(a,(2,3,4))\n",
    "print(b)"
   ]
  },
  {
   "cell_type": "code",
   "execution_count": 54,
   "id": "24f5ee53",
   "metadata": {},
   "outputs": [
    {
     "data": {
      "image/png": "[encoded data removed]",
      "text/plain": [
       "<Figure size 432x288 with 1 Axes>"
      ]
     },
     "metadata": {
      "needs_background": "light"
     },
     "output_type": "display_data"
    }
   ],
   "source": [
    "import matplotlib.pyplot as plt\n",
    "a = np.random.randn(100000)\n",
    "plt.title('Histogram of np.random.randn')\n",
    "plt.hist(a, bins=500)\n",
    "plt.show()"
   ]
  },
  {
   "cell_type": "code",
   "execution_count": 59,
   "id": "4732361f",
   "metadata": {},
   "outputs": [
    {
     "name": "stdout",
     "output_type": "stream",
     "text": [
      "[9 9 7 3 9 8 3 2 6 5]\n"
     ]
    }
   ],
   "source": [
    "np.random.seed(2) #시드값을 2로 고정 \n",
    "arr = np.random.randint(1, 10, 10)\n",
    "print(arr)"
   ]
  },
  {
   "cell_type": "code",
   "execution_count": 68,
   "id": "f0bcdcc9",
   "metadata": {},
   "outputs": [
    {
     "data": {
      "text/plain": [
       "(array([  1.,   0.,   1.,   1.,   0.,   0.,   1.,   2.,   4.,   9.,   3.,\n",
       "          7.,   4.,  10.,   7.,  10.,  18.,  15.,  21.,  23.,  27.,  48.,\n",
       "         40.,  68.,  72.,  66.,  79.,  76., 114., 119., 119., 142., 162.,\n",
       "        175., 182., 209., 211., 233., 248., 261., 274., 286., 315., 315.,\n",
       "        285., 308., 300., 283., 290., 336., 321., 302., 301., 260., 273.,\n",
       "        242., 250., 256., 204., 187., 202., 173., 150., 128., 126., 121.,\n",
       "         87.,  86.,  87.,  77.,  57.,  58.,  46.,  45.,  29.,  26.,  21.,\n",
       "         22.,  16.,  15.,  14.,   3.,   5.,   8.,   4.,   5.,   3.,   2.,\n",
       "          1.,   1.,   1.,   0.,   0.,   0.,   2.,   2.,   0.,   0.,   0.,\n",
       "          1.]),\n",
       " array([-32.4994078 , -31.71527445, -30.93114109, -30.14700774,\n",
       "        -29.36287439, -28.57874103, -27.79460768, -27.01047432,\n",
       "        -26.22634097, -25.44220762, -24.65807426, -23.87394091,\n",
       "        -23.08980755, -22.3056742 , -21.52154085, -20.73740749,\n",
       "        -19.95327414, -19.16914078, -18.38500743, -17.60087408,\n",
       "        -16.81674072, -16.03260737, -15.24847401, -14.46434066,\n",
       "        -13.68020731, -12.89607395, -12.1119406 , -11.32780724,\n",
       "        -10.54367389,  -9.75954054,  -8.97540718,  -8.19127383,\n",
       "         -7.40714047,  -6.62300712,  -5.83887377,  -5.05474041,\n",
       "         -4.27060706,  -3.4864737 ,  -2.70234035,  -1.918207  ,\n",
       "         -1.13407364,  -0.34994029,   0.43419307,   1.21832642,\n",
       "          2.00245977,   2.78659313,   3.57072648,   4.35485984,\n",
       "          5.13899319,   5.92312654,   6.7072599 ,   7.49139325,\n",
       "          8.27552661,   9.05965996,   9.84379331,  10.62792667,\n",
       "         11.41206002,  12.19619338,  12.98032673,  13.76446008,\n",
       "         14.54859344,  15.33272679,  16.11686014,  16.9009935 ,\n",
       "         17.68512685,  18.46926021,  19.25339356,  20.03752691,\n",
       "         20.82166027,  21.60579362,  22.38992698,  23.17406033,\n",
       "         23.95819368,  24.74232704,  25.52646039,  26.31059375,\n",
       "         27.0947271 ,  27.87886045,  28.66299381,  29.44712716,\n",
       "         30.23126052,  31.01539387,  31.79952722,  32.58366058,\n",
       "         33.36779393,  34.15192729,  34.93606064,  35.72019399,\n",
       "         36.50432735,  37.2884607 ,  38.07259406,  38.85672741,\n",
       "         39.64086076,  40.42499412,  41.20912747,  41.99326083,\n",
       "         42.77739418,  43.56152753,  44.34566089,  45.12979424,\n",
       "         45.9139276 ]),\n",
       " <BarContainer object of 100 artists>)"
      ]
     },
     "execution_count": 68,
     "metadata": {},
     "output_type": "execute_result"
    },
    {
     "data": {
      "image/png": "[encoded data removed]",
      "text/plain": [
       "<Figure size 432x288 with 1 Axes>"
      ]
     },
     "metadata": {
      "needs_background": "light"
     },
     "output_type": "display_data"
    }
   ],
   "source": [
    "# HW 2-1\n",
    "np.random.seed(3)\n",
    "\n",
    "x = np.random.randn(10000)\n",
    "y = np.random.normal(5,10,10000)\n",
    "plt.hist(x, bins = 100, alpha = 1)\n",
    "plt.hist(y, bins = 100, alpha = 0.5)\n",
    "plt.hist(x*10+5, bins = 100, alpha = 0.3)"
   ]
  },
  {
   "cell_type": "code",
   "execution_count": 3,
   "id": "7d4f3c13",
   "metadata": {},
   "outputs": [],
   "source": [
    "# HW 1-6 재풀이\n",
    "from time import time\n",
    "\n",
    "def prime(x):\n",
    "    start = time()\n",
    "    num = 2\n",
    "    while x/2 >=num:\n",
    "        if int(x/num) != x/num:\n",
    "            num +=1\n",
    "            if num == int(0.1*x/2):\n",
    "                print(\"10% 완료\")\n",
    "            elif num == int(0.2*x/2):\n",
    "                print(\"20% 완료\")\n",
    "            elif num == int(0.3*x/2):\n",
    "                print(\"30% 완료\")\n",
    "            elif num == int(0.4*x/2):\n",
    "                print(\"40% 완료\")\n",
    "            elif num == int(0.5*x/2):\n",
    "                print(\"50% 완료\")\n",
    "            elif num == int(0.6*x/2):\n",
    "                print(\"60% 완료\")\n",
    "            elif num == int(0.7*x/2):\n",
    "                print(\"70% 완료\")\n",
    "            elif num == int(0.8*x/2):\n",
    "                print(\"80% 완료\")\n",
    "            elif num == int(0.9*x/2):\n",
    "                print(\"90% 완료\")\n",
    "            continue\n",
    "        else:\n",
    "            print(f\"주어진 정수 {x}는 소수가 아닙니다.\")\n",
    "            break\n",
    "    if num == int(x/2)+1:\n",
    "        print(f'주어진 정수 {x}은/는 소수입니다.')\n",
    "    end = time()\n",
    "    print(f'위 계산에 걸린 총 시간은 {end - start}초입니다.')"
   ]
  },
  {
   "cell_type": "code",
   "execution_count": 10,
   "id": "1a60952a",
   "metadata": {},
   "outputs": [
    {
     "name": "stdout",
     "output_type": "stream",
     "text": [
      "10% 완료\n",
      "20% 완료\n",
      "30% 완료\n",
      "40% 완료\n",
      "50% 완료\n",
      "60% 완료\n",
      "70% 완료\n",
      "80% 완료\n",
      "90% 완료\n",
      "주어진 정수 2147483647은/는 소수입니다.\n",
      "위 계산에 걸린 총 시간은 2188.477616071701초입니다.\n"
     ]
    }
   ],
   "source": [
    "prime(2**31-1)"
   ]
  },
  {
   "cell_type": "code",
   "execution_count": null,
   "id": "3a251062",
   "metadata": {},
   "outputs": [],
   "source": []
  },
  {
   "cell_type": "code",
   "execution_count": null,
   "id": "315bff2f",
   "metadata": {},
   "outputs": [],
   "source": []
  }
 ],
 "metadata": {
  "kernelspec": {
   "display_name": "Python 3 (ipykernel)",
   "language": "python",
   "name": "python3"
  },
  "language_info": {
   "codemirror_mode": {
    "name": "ipython",
    "version": 3
   },
   "file_extension": ".py",
   "mimetype": "text/x-python",
   "name": "python",
   "nbconvert_exporter": "python",
   "pygments_lexer": "ipython3",
   "version": "3.9.12"
  }
 },
 "nbformat": 4,
 "nbformat_minor": 5
}
