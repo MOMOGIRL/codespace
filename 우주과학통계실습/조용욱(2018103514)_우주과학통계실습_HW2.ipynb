{
 "cells": [
  {
   "cell_type": "code",
   "execution_count": 1,
   "id": "933ca6bb",
   "metadata": {},
   "outputs": [
    {
     "name": "stdout",
     "output_type": "stream",
     "text": [
      "사과를 구매하시겠습니까? Y/N y\n",
      "몇 개를 구매하시겠습니까? : 3\n",
      "배를 구매하시겠습니까? Y/N y\n",
      "몇 개를 구매하시겠습니까? : 3\n",
      "망고를 구매하시겠습니까? Y/N y\n",
      "몇 개를 구매하시겠습니까? : 1\n",
      "파인애플을 구매하시겠습니까? Y/N y\n",
      "몇 개를 구매하시겠습니까? : 1\n",
      "감을 구매하시겠습니까? Y/N y\n",
      "몇 개를 구매하시겠습니까? : 3\n",
      "수박을 구매하시겠습니까? Y/N y\n",
      "몇 개를 구매하시겠습니까? : 12\n",
      "사과의 가격은 1000입니다.\n",
      "사과의 총 가격은 3000 입니다.\n",
      "배의 가격은 1500입니다.\n",
      "배의 총 가격은 4500 입니다.\n",
      "망고의 가격은 3000입니다.\n",
      "망고의 총 가격은 3000 입니다.\n",
      "파인애플의 가격은 2000입니다.\n",
      "파인애플의 총 가격은 2000 입니다.\n",
      "감의 가격은 2000입니다.\n",
      "감의 총 가격은 6000 입니다.\n",
      "수박의 가격은 2500입니다.\n",
      "수박의 총 가격은 30000 입니다.\n",
      "총 가격 :  48500\n"
     ]
    }
   ],
   "source": [
    "# Homework 1-5\n",
    "a = {'사과' : 1000, '배' : 1500, '망고': 3000, '파인애플':2000, '감': 2000, '수박':2500}\n",
    "# 잘못된 입력을 받으면 제대로 입력하라고 경고 주기\n",
    "# 잘못된 입력을 받으면 에러뜨지 않도록 함\n",
    "# 사과 배 감을 10개씩 구매하면 가격이 얼마일지 출력\n",
    "\n",
    "question = ['사과를 구매하시겠습니까? Y/N ', '배를 구매하시겠습니까? Y/N ', '망고를 구매하시겠습니까? Y/N ', '파인애플을 구매하시겠습니까? Y/N ', '감을 구매하시겠습니까? Y/N ', '수박을 구매하시겠습니까? Y/N ']\n",
    "fruit = ['사과', '배', '망고', '파인애플', '감', '수박']\n",
    "answer = []\n",
    "amount = []\n",
    "for i in range(6): \n",
    "    while True:\n",
    "        ans = input(question[i])\n",
    "        if ans == 'y' or ans =='n':\n",
    "            answer.append(ans)\n",
    "            if ans == 'y':\n",
    "                amount_int = int(input(\"몇 개를 구매하시겠습니까? : \"))\n",
    "                amount.append(amount_int)\n",
    "            else:\n",
    "                amount.append(0)\n",
    "        else:\n",
    "            print('y,n중 하나를 입력해 주세요')\n",
    "            continue\n",
    "        break\n",
    "def receipt():\n",
    "    for i in range(6):\n",
    "        print(f'{fruit[i]}의 가격은 {a[fruit[i]]}입니다.')\n",
    "        print(f'{fruit[i]}의 총 가격은 {amount[i]*a[fruit[i]]} 입니다.')\n",
    "        \n",
    "    y = 0\n",
    "    for i in range(6):\n",
    "         y +=amount[i]*a[fruit[i]]\n",
    "    print('총 가격 : ', y)\n",
    "receipt()     "
   ]
  },
  {
   "cell_type": "code",
   "execution_count": 2,
   "id": "8d65dc41",
   "metadata": {},
   "outputs": [
    {
     "name": "stdout",
     "output_type": "stream",
     "text": [
      "사과의 가격은 1000입니다.\n",
      "사과의 총 가격은 10000 입니다.\n",
      "배의 가격은 1500입니다.\n",
      "배의 총 가격은 15000 입니다.\n",
      "망고의 가격은 3000입니다.\n",
      "망고의 총 가격은 30000 입니다.\n",
      "파인애플의 가격은 2000입니다.\n",
      "파인애플의 총 가격은 20000 입니다.\n",
      "감의 가격은 2000입니다.\n",
      "감의 총 가격은 20000 입니다.\n",
      "수박의 가격은 2500입니다.\n",
      "수박의 총 가격은 25000 입니다.\n",
      "총 가격 :  120000\n"
     ]
    }
   ],
   "source": [
    "amount = [10,10,10,10,10,10]\n",
    "receipt()"
   ]
  },
  {
   "cell_type": "code",
   "execution_count": null,
   "id": "52aa0891",
   "metadata": {},
   "outputs": [],
   "source": [
    "#HW 1-3\n",
    "\n",
    "for i in range(1,10):\n",
    "    print(f' 8 X {i} = {8*i}')"
   ]
  },
  {
   "cell_type": "code",
   "execution_count": null,
   "id": "d742250d",
   "metadata": {},
   "outputs": [],
   "source": [
    "# Hw 1-4\n",
    "a = [[i for i in range(1+5*n,6+5*n)] for n in range(6) ]\n",
    "print(a)\n",
    "for i in range(5):\n",
    "    for j in range(5):\n",
    "        if a[i][j]>=10:\n",
    "            print(f'Array Index가 {i}, {j}인 Element의 값은 {a[i][j]}입니다.')\n"
   ]
  },
  {
   "cell_type": "code",
   "execution_count": 14,
   "id": "30c0cfc7",
   "metadata": {},
   "outputs": [
    {
     "name": "stdout",
     "output_type": "stream",
     "text": [
      "1999 년 07 월 12 일 월요일\n",
      "23\n"
     ]
    }
   ],
   "source": [
    "# HW 1-6\n",
    "\n",
    "import datetime as dt\n",
    "\n",
    "bday = dt.datetime(1999, 7,12)\n",
    "x = ['월', '화', '수', '목', '금', '토', '일']\n",
    "print(bday.strftime(\"%Y 년 %m 월 %d 일\")+f' {x[bday.weekday()]}요일')\n",
    "\n",
    "today = dt.datetime.now()\n",
    "today_digits = int(today.strftime(\"%Y%m%d\"))\n",
    "bday_digits = int(bday.strftime(\"%Y%m%d\"))\n",
    "age = int((today_digits - bday_digits)/10000)\n",
    "\n",
    "print(age)\n",
    "\n"
   ]
  },
  {
   "cell_type": "code",
   "execution_count": null,
   "id": "5a20206b",
   "metadata": {},
   "outputs": [],
   "source": [
    "# HW 1-6 소수 풀이\n",
    "\n"
   ]
  }
 ],
 "metadata": {
  "kernelspec": {
   "display_name": "Python 3 (ipykernel)",
   "language": "python",
   "name": "python3"
  },
  "language_info": {
   "codemirror_mode": {
    "name": "ipython",
    "version": 3
   },
   "file_extension": ".py",
   "mimetype": "text/x-python",
   "name": "python",
   "nbconvert_exporter": "python",
   "pygments_lexer": "ipython3",
   "version": "3.9.12"
  }
 },
 "nbformat": 4,
 "nbformat_minor": 5
}
