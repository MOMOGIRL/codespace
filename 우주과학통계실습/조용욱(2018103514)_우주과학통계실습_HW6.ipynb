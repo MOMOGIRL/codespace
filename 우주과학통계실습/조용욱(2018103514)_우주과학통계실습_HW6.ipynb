{
 "cells": [
  {
   "cell_type": "code",
   "execution_count": 1,
   "id": "03de6c0f",
   "metadata": {},
   "outputs": [],
   "source": [
    "import numpy as np\n",
    "import scipy.stats as stats"
   ]
  },
  {
   "cell_type": "code",
   "execution_count": 2,
   "id": "9819a49c",
   "metadata": {},
   "outputs": [],
   "source": [
    "furn_avg = 900\n",
    "furn_std = 150\n",
    "\n",
    "furn = stats.norm(loc = furn_avg, scale = furn_std)"
   ]
  },
  {
   "cell_type": "code",
   "execution_count": 3,
   "id": "5d2ccbdf",
   "metadata": {},
   "outputs": [
    {
     "name": "stdout",
     "output_type": "stream",
     "text": [
      "처음 750시간 내에 고장이 나는 비율 = 15.9%이다\n"
     ]
    }
   ],
   "source": [
    "#1.\n",
    "time1 = furn.cdf(750)\n",
    "timeround = round(100*time1, 1)\n",
    "print(f\"처음 750시간 내에 고장이 나는 비율 = {timeround}%이다\")"
   ]
  },
  {
   "cell_type": "markdown",
   "id": "e9376044",
   "metadata": {},
   "source": [
    "1번 정답 = 15.9%"
   ]
  },
  {
   "cell_type": "code",
   "execution_count": 7,
   "id": "bf58eb1a",
   "metadata": {},
   "outputs": [
    {
     "name": "stdout",
     "output_type": "stream",
     "text": [
      "800~1100시간 영역에서 사용이 가능한 비율 = 0.66%\n"
     ]
    }
   ],
   "source": [
    "#2.\n",
    "ratio1 = round(furn.cdf(1100) - furn.cdf(800),2)\n",
    "print(f\"800~1100시간 영역에서 사용이 가능한 비율 = {ratio1}%\")"
   ]
  },
  {
   "cell_type": "markdown",
   "id": "5dd497ac",
   "metadata": {},
   "source": [
    "2번 정답 = 0.66%"
   ]
  },
  {
   "cell_type": "code",
   "execution_count": 9,
   "id": "8a925262",
   "metadata": {},
   "outputs": [
    {
     "name": "stdout",
     "output_type": "stream",
     "text": [
      "3번정답 : 773.8%\n"
     ]
    }
   ],
   "source": [
    "#3.\n",
    "percent2 = round(furn.ppf(0.2),1)\n",
    "print(f\"3번정답 : {percent2}%\")"
   ]
  },
  {
   "cell_type": "markdown",
   "id": "16803655",
   "metadata": {},
   "source": [
    "3번 정답 = 774시간"
   ]
  },
  {
   "cell_type": "code",
   "execution_count": null,
   "id": "cbd06a2a",
   "metadata": {},
   "outputs": [],
   "source": []
  }
 ],
 "metadata": {
  "kernelspec": {
   "display_name": "Python 3 (ipykernel)",
   "language": "python",
   "name": "python3"
  }
 },
 "nbformat": 4,
 "nbformat_minor": 5
}
