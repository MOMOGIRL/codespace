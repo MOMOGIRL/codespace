{
 "cells": [
  {
   "cell_type": "code",
   "execution_count": 101,
   "metadata": {},
   "outputs": [],
   "source": [
    "    \"\"\"\n",
    "    1. Pandas를 이용하여 두개의 Data set을 읽어 들인 후 “제작국가” \n",
    "    column을 추가하고 한국영화에는 “한국”, \n",
    "    외국영화에는 “외국”이라고 표시하시오.\n",
    "    \"\"\"\n",
    "    \n",
    "import pandas as pd\n",
    "import numpy as np\n",
    "import matplotlib.pyplot as plt\n",
    "\n",
    "df2 = pd.read_csv(r'역대흥행1000_영화\\역대흥행500_외국영화.csv')\n",
    "df = pd.read_csv(r'역대흥행1000_영화\\역대흥행500_한국영화.csv')\n",
    "\n",
    "df['제작국가']='한국'\n",
    "df2['제작국가']='외국'"
   ]
  },
  {
   "cell_type": "code",
   "execution_count": 102,
   "metadata": {},
   "outputs": [
    {
     "data": {
      "text/plain": [
       "'8,008,622'"
      ]
     },
     "execution_count": 102,
     "metadata": {},
     "output_type": "execute_result"
    }
   ],
   "source": [
    "df['관객수'][30]"
   ]
  },
  {
   "cell_type": "code",
   "execution_count": 112,
   "metadata": {},
   "outputs": [],
   "source": [
    "    \"\"\" 2. 이중 한국영화의 자료에는 숫자가 1000단위만다 “,”가 있어 외국영화와 다른 형식으로 표현되어 있습니다. \n",
    "    한국영화의 DataFrame에서 정수를 표시하는 “,” 를 삭제하시오.\n",
    "    또한 외국영화 자료에는 “Not a Number”를 나타내는 nan 이 있는데 이를 숫자 0으로 바꾸시오.\n",
    "    (참고: Python String의 replace method를 각 column에 적용해 보는 것을 고려해 볼 수 있다\n",
    "    \"\"\"\n",
    "    \n",
    "\n",
    "df['관객수'] = df['관객수'].str.replace(',','')\n",
    "df['스크린수'] = df['스크린수'].str.replace(',','')\n",
    "df2['관객수'] = df2['관객수'].str.replace(',','')\n",
    "df2['관객수']= df2['관객수'].str.replace('nan','0')\n",
    "df2['스크린수']= df2['스크린수'].str.replace('nan','0')\n"
   ]
  },
  {
   "cell_type": "code",
   "execution_count": 115,
   "metadata": {},
   "outputs": [
    {
     "data": {
      "text/plain": [
       "순위       int64\n",
       "영화명     object\n",
       "개봉일     object\n",
       "매출액     object\n",
       "관객수     object\n",
       "스크린수    object\n",
       "제작국가    object\n",
       "dtype: object"
      ]
     },
     "execution_count": 115,
     "metadata": {},
     "output_type": "execute_result"
    }
   ],
   "source": [
    "    \"\"\"3. df. types와 같은 method 를 통해 각 column의 data type 을 출력하고 숫자로 표시되어야 할 “매출액”, “관객수”, “스크린수”는 “float64”로,  “개봉일”은 시간을 나타내는  “datetime64” 형식으로 변경 하시오 (참고: df.astype method등으로 자료의 형식을 변경할 수 있다)\n",
    "    \"\"\"\n",
    "    \n",
    "df.dtypes\n",
    "df.astype({'매출액'})"
   ]
  },
  {
   "cell_type": "code",
   "execution_count": 73,
   "metadata": {},
   "outputs": [
    {
     "data": {
      "text/plain": [
       "nan"
      ]
     },
     "execution_count": 73,
     "metadata": {},
     "output_type": "execute_result"
    }
   ],
   "source": [
    "np.nan"
   ]
  },
  {
   "cell_type": "code",
   "execution_count": null,
   "metadata": {},
   "outputs": [],
   "source": []
  }
 ],
 "metadata": {
  "kernelspec": {
   "display_name": "Python 3 (ipykernel)",
   "language": "python",
   "name": "python3"
  }
 },
 "nbformat": 4,
 "nbformat_minor": 2
}
